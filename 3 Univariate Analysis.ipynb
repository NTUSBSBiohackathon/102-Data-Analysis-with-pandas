{
 "cells": [
  {
   "cell_type": "markdown",
   "metadata": {},
   "source": [
    "<img src=\"https://i.ibb.co/Jpjn0jV/logo.png\" width=\"150\" height=\"150\" alt=\"\">\n",
    "<center>Nanyang Technological University <br>\n",
    "School of Biological Sciences<br>\n",
    "<a href=\"https://sbsbiohackathon.com/\"><strong>Biohackathon Club </strong></a> </center>\n",
    "<hr>\n",
    "Created by: Chua Swee Kwang\n",
    "\n",
    "<p>Before we start, Import pandas, numpy and read the CSV file and name the variable for the dataframe as df.</p>\n",
    "\n",
    "### Datasets used\n",
    "1. `diabetes.csv` from https://www.kaggle.com/saurabh00007/diabetescsv\n",
    "      "
   ]
  },
  {
   "cell_type": "code",
   "execution_count": null,
   "metadata": {},
   "outputs": [],
   "source": [
    "# Import pandas and numpy\n",
    "import pandas as pd\n",
    "import numpy as np"
   ]
  },
  {
   "cell_type": "code",
   "execution_count": null,
   "metadata": {},
   "outputs": [],
   "source": [
    "#Import CSV files\n"
   ]
  },
  {
   "cell_type": "markdown",
   "metadata": {},
   "source": [
    "Before we start our analysis, look at the 1st 5 of the data to see if you have import them correctly."
   ]
  },
  {
   "cell_type": "code",
   "execution_count": null,
   "metadata": {},
   "outputs": [],
   "source": [
    "# Look at the 1st to 5th row"
   ]
  },
  {
   "cell_type": "markdown",
   "metadata": {},
   "source": [
    "It is good practice to do some preliminary analysis. <br>\n",
    "Check the `shape`, `data type` and `Name of columns\n",
    "`"
   ]
  },
  {
   "cell_type": "code",
   "execution_count": null,
   "metadata": {},
   "outputs": [],
   "source": [
    "# print the shape of the df\n"
   ]
  },
  {
   "cell_type": "code",
   "execution_count": null,
   "metadata": {},
   "outputs": [],
   "source": [
    "# print the dtypes of the df\n"
   ]
  },
  {
   "cell_type": "code",
   "execution_count": null,
   "metadata": {},
   "outputs": [],
   "source": [
    "# print the columns of the df\n"
   ]
  },
  {
   "cell_type": "markdown",
   "metadata": {},
   "source": [
    "### Basic Statistical\n",
    "`describe()` is used to view some basic statistical details like percentile, mean, std etc. of a data frame or a series of numeric values. \n",
    "\n",
    "1. Count number of non-NA/null observations.\n",
    "2. Mean of the values.\n",
    "3. Standard deviation of the observations.\n",
    "4. Minimum of the values in the object.\n",
    "5. Percentile of the values in the object.\n",
    "6. Maximum of the values in the object."
   ]
  },
  {
   "cell_type": "code",
   "execution_count": null,
   "metadata": {},
   "outputs": [],
   "source": []
  },
  {
   "cell_type": "markdown",
   "metadata": {},
   "source": [
    "##### How? \n",
    "Too many variable / columns? But you only want to see only one such as BMI.\n"
   ]
  },
  {
   "cell_type": "code",
   "execution_count": null,
   "metadata": {},
   "outputs": [],
   "source": []
  },
  {
   "cell_type": "markdown",
   "metadata": {},
   "source": [
    "For categorical data, You can also check this\n",
    "- `unique` represents the number of unique values of the column\n",
    "\n",
    "- `top` represents the most frequent value in the column\n",
    "\n",
    "- `freq` represents the count of the most frequent value in the column"
   ]
  },
  {
   "cell_type": "code",
   "execution_count": null,
   "metadata": {},
   "outputs": [],
   "source": [
    "# Import top-4-conditions-of-polyclinic-attendances.csv\"\n",
    "\n",
    "\n",
    "# Using .describe()\n"
   ]
  },
  {
   "cell_type": "code",
   "execution_count": null,
   "metadata": {},
   "outputs": [],
   "source": [
    "# Using .unique()\n"
   ]
  },
  {
   "cell_type": "code",
   "execution_count": null,
   "metadata": {},
   "outputs": [],
   "source": [
    "# Using .nunique()\n"
   ]
  },
  {
   "cell_type": "markdown",
   "metadata": {},
   "source": [
    "## Filtering\n",
    "The BMI, the greater the risk of developing additional health problems. \n",
    "1. A healthy weight is considered to be a BMI of 24 or less. \n",
    "2. A BMI of 25 to 29.9 is considered overweight. \n",
    "3. A BMI of 30 and above is considered obese.\n",
    "\n",
    "Now, we only want to study obese people. So filter out the data and store it as bmi_30_df."
   ]
  },
  {
   "cell_type": "code",
   "execution_count": null,
   "metadata": {},
   "outputs": [],
   "source": [
    "bmi_30_df = df.copy()\n"
   ]
  },
  {
   "cell_type": "markdown",
   "metadata": {},
   "source": [
    "Use sum() to find the sum of all values in a column."
   ]
  },
  {
   "cell_type": "code",
   "execution_count": null,
   "metadata": {},
   "outputs": [],
   "source": []
  },
  {
   "cell_type": "markdown",
   "metadata": {},
   "source": [
    "Use min() to get the minimum value in a column."
   ]
  },
  {
   "cell_type": "code",
   "execution_count": null,
   "metadata": {},
   "outputs": [],
   "source": []
  },
  {
   "cell_type": "markdown",
   "metadata": {},
   "source": [
    "Use max() to get the maximum value in a column."
   ]
  },
  {
   "cell_type": "code",
   "execution_count": null,
   "metadata": {},
   "outputs": [],
   "source": []
  },
  {
   "cell_type": "markdown",
   "metadata": {},
   "source": [
    "Use count() to find the number of records in a Series."
   ]
  },
  {
   "cell_type": "code",
   "execution_count": null,
   "metadata": {},
   "outputs": [],
   "source": []
  },
  {
   "cell_type": "markdown",
   "metadata": {},
   "source": [
    "### Measures of Central Tendency - Mean, Median, Mode"
   ]
  },
  {
   "cell_type": "markdown",
   "metadata": {},
   "source": [
    "**Mean of a sample, $\\bar{x}$**\n",
    "The formula for this is\n",
    "\n",
    "<img src=\"https://www.gstatic.com/education/formulas/images_long_sheet/mean.svg\"  >"
   ]
  },
  {
   "cell_type": "code",
   "execution_count": null,
   "metadata": {},
   "outputs": [],
   "source": []
  },
  {
   "cell_type": "markdown",
   "metadata": {},
   "source": [
    "**Median of a sample** <br>\n",
    "the median is the value separating the higher half from the lower half of a data sample (a population or a probability distribution)"
   ]
  },
  {
   "cell_type": "code",
   "execution_count": null,
   "metadata": {},
   "outputs": [],
   "source": []
  },
  {
   "cell_type": "markdown",
   "metadata": {},
   "source": [
    "**Mode of a sample** <br>\n",
    "The mode of a set of data values is the value that appears most often."
   ]
  },
  {
   "cell_type": "code",
   "execution_count": null,
   "metadata": {},
   "outputs": [],
   "source": []
  },
  {
   "cell_type": "markdown",
   "metadata": {},
   "source": [
    "<div class=\"alert alert-info\">\n",
    "<b>DATA Visualization: </b> In this workshop, we will not be learning about data visualization.\n",
    "</div>"
   ]
  },
  {
   "cell_type": "code",
   "execution_count": null,
   "metadata": {},
   "outputs": [],
   "source": [
    "import matplotlib.pyplot as plt\n",
    "import matplotlib\n",
    "import seaborn as sns\n",
    "from scipy.stats import norm\n",
    "sns.set()"
   ]
  },
  {
   "cell_type": "code",
   "execution_count": null,
   "metadata": {},
   "outputs": [],
   "source": [
    "df_p_agg = bmi_30_df.groupby('Age').size().reset_index(name='n')\n",
    "fig, ax = plt.subplots()\n",
    "df_p_agg.plot(kind='bar', x='Age', y='n', ax=ax, figsize=(16, 6), color='tomato',)\n",
    "ax.set_ylabel(\"No.\")\n",
    "ax.set_xlabel(\"Age\")\n",
    "plt.title(\"Distribution of Age for BMI >= 30\", fontsize=16)\n",
    "plt.show()"
   ]
  },
  {
   "cell_type": "markdown",
   "metadata": {},
   "source": [
    "### Variance, Standard Deviation"
   ]
  },
  {
   "cell_type": "markdown",
   "metadata": {},
   "source": [
    "**Variance, $\\sigma^2$** <br>\n",
    "Variance is the expectation of the squared deviation of a random variable from its mean. Informally, it measures how far a set of numbers are spread out from their average value.\n",
    "\n",
    "<img src=\"https://images.deepai.org/glossary-terms/variance-6302132.jpg\" width=\"400px\">\n",
    "\n",
    "`axis=0` as you are calculating the variance of a column. `axis=1` will represent calculating across a row.\n"
   ]
  },
  {
   "cell_type": "code",
   "execution_count": null,
   "metadata": {},
   "outputs": [],
   "source": []
  },
  {
   "cell_type": "markdown",
   "metadata": {},
   "source": [
    "**Standard Deviation, $\\sigma$** <br>\n",
    "Standard deviation is a measure of the amount of variation or dispersion of a set of values <br>\n",
    "<img src=\"https://cdn.kastatic.org/googleusercontent/N8xzWFc6eo0XBHEXZjz1SwvLSnPezvhTRF1P17kdjUG_tnJivGKkyCxbwVe4MZ0-USOxIZBohgcjdi8e7Z4Hswcqfw\" width=\"400px\">"
   ]
  },
  {
   "cell_type": "code",
   "execution_count": null,
   "metadata": {},
   "outputs": [],
   "source": []
  },
  {
   "cell_type": "code",
   "execution_count": null,
   "metadata": {},
   "outputs": [],
   "source": []
  },
  {
   "cell_type": "markdown",
   "metadata": {},
   "source": [
    "### Skewness"
   ]
  },
  {
   "cell_type": "markdown",
   "metadata": {},
   "source": [
    "Use `Series.skew()` to find the skewness of the dataset. This will mean if the dataset is left-tailed or right-tailed. \n",
    "\n",
    "<img src=\"https://miro.medium.com/max/1200/1*nj-Ch3AUFmkd0JUSOW_bTQ.jpeg\" width=\"600px\">\n",
    "\n",
    "\n",
    "Interpret the skewness score as follows:\n",
    "- If the skewness is $0$ then the observations are symmetrical. \n",
    "- If the skewness is positive $(>0)$ then the dataset is skewed right (right-tailed). \n",
    "- If the skewness is negative $(<0)$then the dataset is left-skewed (left-tailed)."
   ]
  },
  {
   "cell_type": "code",
   "execution_count": null,
   "metadata": {},
   "outputs": [],
   "source": []
  },
  {
   "cell_type": "code",
   "execution_count": null,
   "metadata": {},
   "outputs": [],
   "source": [
    "plt.figure(figsize=(18, 6))\n",
    "ax1 = plt.subplot(111)\n",
    "bmi_30_df[\"Age\"].plot(kind='hist', bins=30 , ax=ax1)\n",
    "ax1.set_xlabel(\"Age\", fontsize=14)\n",
    "plt.title(\"Histogram for age for BMI >= 30, 30 bins\")\n",
    "plt.show()"
   ]
  },
  {
   "cell_type": "markdown",
   "metadata": {},
   "source": [
    "###  Kurtosis\n",
    "\n",
    "Use `Series.kurt()` to find the kurtosis score of the dataset. <br>\n",
    "Kurtosis is a measure of whether the data are heavy-tailed or light-tailed relative to a normal distribution."
   ]
  },
  {
   "cell_type": "markdown",
   "metadata": {},
   "source": [
    "<img src=\"https://financetrain.com/assets/KurtosisPict.jpg\" width=\"600px\">\n",
    "\n",
    "Interpret the skewness score as follows:\n",
    "1. if the observations have excessively fat tails, the kurtosis is positive.\n",
    "2. The kurtosis of a normal distribution is $0$. \n",
    "3. If the observations a very light tail, then the kurtosis is negative."
   ]
  },
  {
   "cell_type": "code",
   "execution_count": null,
   "metadata": {},
   "outputs": [],
   "source": []
  },
  {
   "cell_type": "code",
   "execution_count": null,
   "metadata": {},
   "outputs": [],
   "source": [
    "\n",
    "plt.figure(figsize=(18, 14))\n",
    "ax1 = plt.subplot(111)\n",
    "sns.kdeplot(bmi_30_df[\"Age\"])\n",
    "ax1.set_xlabel(\"age\")\n",
    "plt.title(\"KDE plot for points of wines\")\n",
    "xmin, xmax = plt.xlim()\n",
    "\n",
    "x = np.linspace(xmin-4, xmax+4, 120)\n",
    "p = norm.pdf(x, bmi_30_df[\"Age\"].mean(), bmi_30_df[\"Age\"].std())\n",
    "plt.plot(x, p, 'k', linewidth=2, color='black')\n",
    "plt.show()"
   ]
  },
  {
   "cell_type": "code",
   "execution_count": null,
   "metadata": {},
   "outputs": [],
   "source": []
  },
  {
   "cell_type": "code",
   "execution_count": null,
   "metadata": {},
   "outputs": [],
   "source": []
  }
 ],
 "metadata": {
  "kernelspec": {
   "display_name": "Python 3",
   "language": "python",
   "name": "python3"
  },
  "language_info": {
   "codemirror_mode": {
    "name": "ipython",
    "version": 3
   },
   "file_extension": ".py",
   "mimetype": "text/x-python",
   "name": "python",
   "nbconvert_exporter": "python",
   "pygments_lexer": "ipython3",
   "version": "3.7.4"
  }
 },
 "nbformat": 4,
 "nbformat_minor": 2
}
