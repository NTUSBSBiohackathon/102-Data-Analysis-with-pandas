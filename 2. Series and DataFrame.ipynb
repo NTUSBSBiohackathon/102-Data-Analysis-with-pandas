{
 "cells": [
  {
   "cell_type": "markdown",
   "metadata": {},
   "source": [
    "<img src=\"https://i.ibb.co/Jpjn0jV/logo.png\" width=\"150\" height=\"150\" alt=\"\">\n",
    "<center>Nanyang Technological University <br>\n",
    "School of Biological Sciences<br>\n",
    "<a href=\"https://sbsbiohackathon.com/\"><strong>Biohackathon Club </strong></a> </center>\n",
    "<hr>\n",
    "\n",
    "Created by: Chua Swee Kwang\n",
    "      \n",
    "\n",
    "  \n",
    "### Overview of pandas\n",
    "<div class=\"alert alert-block alert-info\">\n",
    "<b>Tip:</b> Pandas stands for “Python Data Analysis Library. In computer programming, pandas is a software library written for the Python programming language for data manipulation and analysis. In particular, it offers data structures and operations for manipulating numerical tables and time series.\n",
    "</div>\n",
    "\n",
    "documentation here: http://pandas.pydata.org/pandas-docs/stable/<br>\n",
    "<strong>Throughout this course, Pandas is used a to perform data analyses and data modeling workflows with Python</strong><br>\n",
    "NumPy will also be used in this course but we won't cover much on it.\n",
    "\n",
    "To get started, you need to import the following libraries. <br>\n",
    "pandas and Numpy\n",
    "\n",
    "```python\n",
    "import pandas as pd\n",
    "import numpy as np\n",
    "```\n",
    "\n",
    "But you can also type it in this way:\n",
    "\n",
    "```python\n",
    "import pandas\n",
    "```\n",
    "#### or\n",
    "```python\n",
    "import pandas as dog\n",
    "```\n",
    "<strong>Why pd or np?</strong> <br>\n",
    "Instead of typing pandas or numpy as a prefix, we can simply type np or pd for pandas!<br> \n",
    "Also, pd and np, is a conventions way of importing pandas and numpy <br>\n",
    "\n",
    "<br>\n",
    "Whenever you see pd. in code, it’s referring to pandas."
   ]
  },
  {
   "cell_type": "code",
   "execution_count": null,
   "metadata": {},
   "outputs": [],
   "source": [
    "# import pandas libraries\n"
   ]
  },
  {
   "cell_type": "code",
   "execution_count": null,
   "metadata": {},
   "outputs": [],
   "source": []
  },
  {
   "cell_type": "markdown",
   "metadata": {},
   "source": [
    "## What is Series?\n",
    "Series is a one-dimesional array-like object containing an arry of data.\n",
    "\n",
    "#### How to create a series?\n",
    "\n",
    "```python\n",
    "Series([2,4,6,8,9])\n",
    "```\n",
    "\n",
    "Series shows index on the left and the values on the right as we did not specify an index for the data."
   ]
  },
  {
   "cell_type": "code",
   "execution_count": null,
   "metadata": {},
   "outputs": [],
   "source": []
  },
  {
   "cell_type": "code",
   "execution_count": null,
   "metadata": {},
   "outputs": [],
   "source": []
  },
  {
   "cell_type": "markdown",
   "metadata": {},
   "source": [
    "You can get the array representation and index object of the Series via its values\n",
    "and index attributes, respectively:"
   ]
  },
  {
   "cell_type": "code",
   "execution_count": null,
   "metadata": {},
   "outputs": [],
   "source": [
    "# Looking at the values in the Series\n"
   ]
  },
  {
   "cell_type": "code",
   "execution_count": null,
   "metadata": {},
   "outputs": [],
   "source": []
  },
  {
   "cell_type": "markdown",
   "metadata": {},
   "source": [
    "Instead of having number as you index, you can specify it to identify each data point."
   ]
  },
  {
   "cell_type": "code",
   "execution_count": null,
   "metadata": {},
   "outputs": [],
   "source": []
  },
  {
   "cell_type": "code",
   "execution_count": null,
   "metadata": {},
   "outputs": [],
   "source": []
  },
  {
   "cell_type": "markdown",
   "metadata": {},
   "source": [
    "#### How to retrieve the data from the series?\n",
    "using `[ ]`"
   ]
  },
  {
   "cell_type": "code",
   "execution_count": null,
   "metadata": {},
   "outputs": [],
   "source": [
    "# from series_data using indexes\n"
   ]
  },
  {
   "cell_type": "code",
   "execution_count": null,
   "metadata": {},
   "outputs": [],
   "source": [
    "# from series_data2 using naming\n"
   ]
  },
  {
   "cell_type": "markdown",
   "metadata": {},
   "source": [
    "### What is the difference between Python List and Pandas Series?\n",
    "\n",
    "1. Series index vs List index <br>\n",
    "Series can specify your indexes but Python can't"
   ]
  },
  {
   "cell_type": "code",
   "execution_count": null,
   "metadata": {},
   "outputs": [],
   "source": []
  },
  {
   "cell_type": "code",
   "execution_count": null,
   "metadata": {},
   "outputs": [],
   "source": []
  },
  {
   "cell_type": "markdown",
   "metadata": {},
   "source": [
    "2. Series like a Dictionary <br>\n",
    "You can control the index of elements by label"
   ]
  },
  {
   "cell_type": "code",
   "execution_count": null,
   "metadata": {},
   "outputs": [],
   "source": []
  },
  {
   "cell_type": "markdown",
   "metadata": {},
   "source": [
    "<b>3. Series like a vector <br> </b>\n",
    "Series also support vector operations."
   ]
  },
  {
   "cell_type": "code",
   "execution_count": null,
   "metadata": {},
   "outputs": [],
   "source": []
  },
  {
   "cell_type": "code",
   "execution_count": null,
   "metadata": {},
   "outputs": [],
   "source": []
  },
  {
   "cell_type": "code",
   "execution_count": null,
   "metadata": {},
   "outputs": [],
   "source": []
  },
  {
   "cell_type": "markdown",
   "metadata": {},
   "source": [
    "## What is a DataFrame\n",
    "Pandas DataFrame is two-dimensional size-mutable, potentially heterogeneous tabular data structure with labeled axes (rows and columns)<br>\n",
    "<br>\n",
    "\n",
    "1. Creating Data Frame from Dictionary\n",
    "\n",
    "| prof | mod | Number of Student |\n",
    "| - | - | - |\n",
    "| Mu Yuguang | Biostat | 100 |\n",
    "| Thanabalu| MCB  | 120|\n",
    "| Gruber| Biochemistry II | 10 |\n"
   ]
  },
  {
   "cell_type": "code",
   "execution_count": null,
   "metadata": {},
   "outputs": [],
   "source": [
    "# Create a dictionary that contain the information above\n"
   ]
  },
  {
   "cell_type": "code",
   "execution_count": null,
   "metadata": {},
   "outputs": [],
   "source": []
  },
  {
   "cell_type": "code",
   "execution_count": null,
   "metadata": {},
   "outputs": [],
   "source": []
  },
  {
   "cell_type": "markdown",
   "metadata": {},
   "source": [
    "#### you specify a sequence of columns order."
   ]
  },
  {
   "cell_type": "markdown",
   "metadata": {},
   "source": [
    "| mod | prof | Number of Student |\n",
    "| - | - | - |\n",
    "| Biostat | Mu Yuguang | 100 |\n",
    "| MCB| Thanabalu  | 120|\n",
    "| Biochemistry II| Gruber| 10 |\n"
   ]
  },
  {
   "cell_type": "code",
   "execution_count": null,
   "metadata": {},
   "outputs": [],
   "source": []
  },
  {
   "cell_type": "markdown",
   "metadata": {},
   "source": [
    "### You want to epecify the index name\n",
    "\n",
    "|| mod | prof | Number of Student |\n",
    "|-| - | - | - |\n",
    "|one| Biostat | Mu Yuguang | 100 |\n",
    "|two| MCB| Thanabalu  | 120|\n",
    "|three| Biochemistry II| Gruber| 10 |\n"
   ]
  },
  {
   "cell_type": "code",
   "execution_count": null,
   "metadata": {},
   "outputs": [],
   "source": []
  },
  {
   "cell_type": "code",
   "execution_count": null,
   "metadata": {},
   "outputs": [],
   "source": [
    "# Rows can also be retrieved by position or name\n",
    "# .loc for label based indexing \n"
   ]
  },
  {
   "cell_type": "code",
   "execution_count": null,
   "metadata": {},
   "outputs": [],
   "source": [
    "#.iloc for positional indexing\n"
   ]
  },
  {
   "cell_type": "code",
   "execution_count": null,
   "metadata": {},
   "outputs": [],
   "source": [
    "# Columns can also be retrieved by position or name\n",
    "\n"
   ]
  },
  {
   "cell_type": "code",
   "execution_count": null,
   "metadata": {},
   "outputs": [],
   "source": [
    "print(frame_order_2)"
   ]
  },
  {
   "cell_type": "code",
   "execution_count": null,
   "metadata": {},
   "outputs": [],
   "source": []
  }
 ],
 "metadata": {
  "kernelspec": {
   "display_name": "Python 3",
   "language": "python",
   "name": "python3"
  },
  "language_info": {
   "codemirror_mode": {
    "name": "ipython",
    "version": 3
   },
   "file_extension": ".py",
   "mimetype": "text/x-python",
   "name": "python",
   "nbconvert_exporter": "python",
   "pygments_lexer": "ipython3",
   "version": "3.7.4"
  }
 },
 "nbformat": 4,
 "nbformat_minor": 2
}
