{
 "cells": [
  {
   "cell_type": "markdown",
   "metadata": {},
   "source": [
    "<img src=\"https://i.ibb.co/Jpjn0jV/logo.png\" width=\"150\" height=\"150\" alt=\"\">\n",
    "<center>Nanyang Technological University <br>\n",
    "School of Biological Sciences<br>\n",
    "<a href=\"https://sbsbiohackathon.com/\"><strong>Biohackathon Club </strong></a> </center>\n",
    "<hr>\n",
    "\n",
    "Created by: Chua Swee Kwang\n",
    "      "
   ]
  },
  {
   "cell_type": "markdown",
   "metadata": {},
   "source": [
    "### Variables & Datatypes\n",
    "Variables are used to store information to be referenced and manipulated in a computer program <br>\n",
    "Data Types are different kind of data that programming use. The different basic kind of datas are:</p> <br>\n",
    "1. String <br>\n",
    "2. Integers <br>\n",
    "3. Float <br>\n",
    "4. bool <br>\n",
    "\n",
    "3Use type to find out the data type of each variable"
   ]
  },
  {
   "cell_type": "code",
   "execution_count": 1,
   "metadata": {},
   "outputs": [
    {
     "name": "stdout",
     "output_type": "stream",
     "text": [
      "Hello World\n"
     ]
    }
   ],
   "source": [
    "# Declare 2 variables. Your name and age\n",
    "\n",
    "\n",
    "# Try using type function to validate the datatype\n"
   ]
  },
  {
   "cell_type": "markdown",
   "metadata": {},
   "source": [
    "<h2 style=\"color:#00adb5;\">Comparison Operator</h2>\n",
    "<br>\n",
    "Comparison operators — operators that compare values and return true or false.\n",
    "<br>"
   ]
  },
  {
   "cell_type": "markdown",
   "metadata": {},
   "source": [
    "| Operator | Meaning | Example | Return\n",
    "| -- | -- | -- | -- |\n",
    "| `==` | equality | \"a\" = \"a\"| True\n",
    "| `!=` | inequality | \"a\" != \"A\" | True\n",
    "| `<` | less than |11 < 10  | False\n",
    "| `<=` | Less than or equal | 6 <= 20 |  True\n",
    "| `>` | greater than | 5 > 4 | False\n",
    "| `>=` | greater than or equal | 5 >= 5 | True"
   ]
  },
  {
   "cell_type": "code",
   "execution_count": 3,
   "metadata": {},
   "outputs": [
    {
     "name": "stdout",
     "output_type": "stream",
     "text": [
      "False\n"
     ]
    }
   ],
   "source": []
  },
  {
   "cell_type": "markdown",
   "metadata": {},
   "source": [
    "**Your turn:** What is the result of `30 < 100`?"
   ]
  },
  {
   "cell_type": "markdown",
   "metadata": {},
   "source": [
    "<h2 style=\"color:#00adb5;\">Lists</h2>"
   ]
  },
  {
   "cell_type": "markdown",
   "metadata": {},
   "source": [
    "|0|1|2|3|4|\n",
    "| -- | -- | -- | -- | -- |\n",
    "|  10 | 5 | 2| 8| 12|\n"
   ]
  },
  {
   "cell_type": "markdown",
   "metadata": {},
   "source": [
    "Create a list containing `10,5,2,8,12`"
   ]
  },
  {
   "cell_type": "markdown",
   "metadata": {},
   "source": [
    "What is the output `[:3]`"
   ]
  },
  {
   "cell_type": "code",
   "execution_count": null,
   "metadata": {},
   "outputs": [],
   "source": []
  },
  {
   "cell_type": "markdown",
   "metadata": {},
   "source": [
    "What is the output `[3:]`"
   ]
  },
  {
   "cell_type": "code",
   "execution_count": null,
   "metadata": {},
   "outputs": [],
   "source": []
  },
  {
   "cell_type": "markdown",
   "metadata": {},
   "source": [
    "What is the output `[-2:]`"
   ]
  },
  {
   "cell_type": "code",
   "execution_count": null,
   "metadata": {},
   "outputs": [],
   "source": []
  },
  {
   "cell_type": "markdown",
   "metadata": {},
   "source": [
    "<h2 style=\"color:#00adb5;\">Loops</h2>\n",
    "\n",
    "```python\n",
    "for i in l:\n",
    "```\n",
    "\n",
    "to iterate  all items in the **list**."
   ]
  },
  {
   "cell_type": "code",
   "execution_count": 8,
   "metadata": {},
   "outputs": [
    {
     "name": "stdout",
     "output_type": "stream",
     "text": [
      "50\n",
      "6\n",
      "30\n",
      "2\n",
      "8\n",
      "12\n"
     ]
    }
   ],
   "source": [
    "populations_size = [50, 6, 30, 2, 8, 12]\n",
    "\n",
    "# Write a loop and print out everthing inside\n",
    "\n"
   ]
  },
  {
   "cell_type": "markdown",
   "metadata": {},
   "source": [
    "Combine if else statement"
   ]
  },
  {
   "cell_type": "code",
   "execution_count": 9,
   "metadata": {},
   "outputs": [
    {
     "name": "stdout",
     "output_type": "stream",
     "text": [
      "large\n",
      "small\n",
      "small\n",
      "small\n",
      "small\n",
      "small\n"
     ]
    }
   ],
   "source": [
    "populations_size = [50, 6, 30, 2, 8, 60]\n",
    "\n",
    "# Write a loop to see which number is larger than 30\n"
   ]
  },
  {
   "cell_type": "markdown",
   "metadata": {},
   "source": [
    "Store all the value for large population"
   ]
  },
  {
   "cell_type": "code",
   "execution_count": 11,
   "metadata": {},
   "outputs": [
    {
     "name": "stdout",
     "output_type": "stream",
     "text": [
      "large\n",
      "small\n",
      "small\n",
      "small\n",
      "small\n",
      "large\n",
      "[50, 60]\n"
     ]
    }
   ],
   "source": [
    "populations_size = [50, 6, 30, 2, 8, 60]\n",
    "large_population = []\n",
    "\n",
    "# Write a loop to see which number is larger than 30 and if it's larger than 30, \n",
    "# store it inside large_population.\n"
   ]
  },
  {
   "cell_type": "markdown",
   "metadata": {},
   "source": [
    "## Python Dictionaries\n",
    "A dictionary is a collection which is unordered, changeable and indexed. In Python dictionaries are written with curly brackets, and they have keys and values."
   ]
  },
  {
   "cell_type": "code",
   "execution_count": 1,
   "metadata": {},
   "outputs": [
    {
     "name": "stdout",
     "output_type": "stream",
     "text": [
      "{'brand': 'Ford', 'model': 'Mustang', 'year': 1964}\n"
     ]
    }
   ],
   "source": []
  },
  {
   "cell_type": "code",
   "execution_count": 2,
   "metadata": {},
   "outputs": [
    {
     "name": "stdout",
     "output_type": "stream",
     "text": [
      "Mustang\n"
     ]
    }
   ],
   "source": [
    "# Accessing the dictionary\n"
   ]
  },
  {
   "cell_type": "code",
   "execution_count": 3,
   "metadata": {},
   "outputs": [
    {
     "name": "stdout",
     "output_type": "stream",
     "text": [
      "{'brand': 'Ford', 'model': 50, 'year': 1964}\n"
     ]
    }
   ],
   "source": [
    "# Change the value of the diction\n",
    "="
   ]
  },
  {
   "cell_type": "markdown",
   "metadata": {},
   "source": [
    "### Exercise\n",
    "The variable song_name contains the tittle of different songs. Count the number of words for each songs. How many song tittles have more than 10 words?"
   ]
  },
  {
   "cell_type": "code",
   "execution_count": 20,
   "metadata": {},
   "outputs": [
    {
     "name": "stdout",
     "output_type": "stream",
     "text": [
      "4\n"
     ]
    }
   ],
   "source": [
    "song_name = [\"Rapture\",\n",
    "            \"Don't Start Now\",\n",
    "            \"Dumebi\", \n",
    "            \"All Mirrors\",\n",
    "            \"Senorita\",\n",
    "            \"Anybody\",\n",
    "            \"Bop\",\n",
    "            \"My Type\",\n",
    "            \"Morning\",\n",
    "            \"Lose You To Love Me\",\n",
    "            \"Sue Me\",\n",
    "            \"Die A Little Bit\",\n",
    "            \"Sabotage\"]\n",
    "\n",
    "# Create a varible to store the count values\n",
    "\n",
    "# Create a loop to access each item in the list.\n",
    "# Inside the loop create anouther loop to count the letters.\n",
    "\n",
    "for i in song_name:\n",
    "    for y in i:\n",
    "        count += 1\n",
    "    \n",
    "    if count > 10:\n",
    "        more_than_10words += 1\n",
    "        \n",
    "    #print(count)\n",
    "    count = 0\n",
    "\n",
    "print(more_than_10words)"
   ]
  },
  {
   "cell_type": "code",
   "execution_count": 24,
   "metadata": {},
   "outputs": [
    {
     "name": "stdout",
     "output_type": "stream",
     "text": [
      "3\n"
     ]
    }
   ],
   "source": [
    "count = 0\n",
    "more_than_10words = 0\n",
    "\n",
    "for i in song_name:\n",
    "    for y in i:\n",
    "        if y != \" \":\n",
    "            count += 1\n",
    "    \n",
    "    if count > 10:\n",
    "        more_than_10words += 1\n",
    "    \n",
    "    #print(count)\n",
    "    count = 0\n",
    "    \n",
    "print(more_than_10words)"
   ]
  },
  {
   "cell_type": "code",
   "execution_count": null,
   "metadata": {},
   "outputs": [],
   "source": []
  }
 ],
 "metadata": {
  "kernelspec": {
   "display_name": "Python 3",
   "language": "python",
   "name": "python3"
  },
  "language_info": {
   "codemirror_mode": {
    "name": "ipython",
    "version": 3
   },
   "file_extension": ".py",
   "mimetype": "text/x-python",
   "name": "python",
   "nbconvert_exporter": "python",
   "pygments_lexer": "ipython3",
   "version": "3.7.4"
  }
 },
 "nbformat": 4,
 "nbformat_minor": 2
}
